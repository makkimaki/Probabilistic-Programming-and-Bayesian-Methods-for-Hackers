{
  "nbformat": 4,
  "nbformat_minor": 0,
  "metadata": {
    "colab": {
      "provenance": [],
      "authorship_tag": "ABX9TyPM7ScfkGhecwZA8S5+mfth",
      "include_colab_link": true
    },
    "kernelspec": {
      "name": "python3",
      "display_name": "Python 3"
    },
    "language_info": {
      "name": "python"
    }
  },
  "cells": [
    {
      "cell_type": "markdown",
      "metadata": {
        "id": "view-in-github",
        "colab_type": "text"
      },
      "source": [
        "<a href=\"https://colab.research.google.com/github/makkimaki/Probabilistic-Programming-and-Bayesian-Methods-for-Hackers/blob/main/Chapter6_Prior.ipynb\" target=\"_parent\"><img src=\"https://colab.research.google.com/assets/colab-badge.svg\" alt=\"Open In Colab\"/></a>"
      ]
    },
    {
      "cell_type": "markdown",
      "source": [
        "# 事前分布をどう決めるか？\n",
        "- データセットのサイズ依存性\n",
        "- 線形回帰における事前分布とペナルティの関係\n",
        "慎重な選び方が時に必要。事前分布は個人的な信念を織り込めるが、**個人的信念を排除したい時**には慎重な選択が必要\n",
        "\n",
        "\n",
        "- 客観的事前分布：基本的に、全区間、とりうるすべての値をもつものにする e.g.) 一様分布なら[0, 1]など\n",
        "- 主観的事前分布(情報を含む事前分布, informative prior)"
      ],
      "metadata": {
        "id": "T-Jt5Lo1YIqZ"
      }
    },
    {
      "cell_type": "code",
      "execution_count": 1,
      "metadata": {
        "colab": {
          "base_uri": "https://localhost:8080/"
        },
        "id": "ywWAolAGUVk_",
        "outputId": "a0dadadc-a947-4312-fc38-af9ce6b28f3a"
      },
      "outputs": [
        {
          "output_type": "stream",
          "name": "stdout",
          "text": [
            "Collecting japanize-matplotlib\n",
            "  Downloading japanize-matplotlib-1.1.3.tar.gz (4.1 MB)\n",
            "\u001b[2K     \u001b[90m━━━━━━━━━━━━━━━━━━━━━━━━━━━━━━━━━━━━━━━━\u001b[0m \u001b[32m4.1/4.1 MB\u001b[0m \u001b[31m16.0 MB/s\u001b[0m eta \u001b[36m0:00:00\u001b[0m\n",
            "\u001b[?25h  Preparing metadata (setup.py) ... \u001b[?25l\u001b[?25hdone\n",
            "Requirement already satisfied: matplotlib in /usr/local/lib/python3.10/dist-packages (from japanize-matplotlib) (3.7.1)\n",
            "Requirement already satisfied: contourpy>=1.0.1 in /usr/local/lib/python3.10/dist-packages (from matplotlib->japanize-matplotlib) (1.2.0)\n",
            "Requirement already satisfied: cycler>=0.10 in /usr/local/lib/python3.10/dist-packages (from matplotlib->japanize-matplotlib) (0.12.1)\n",
            "Requirement already satisfied: fonttools>=4.22.0 in /usr/local/lib/python3.10/dist-packages (from matplotlib->japanize-matplotlib) (4.47.2)\n",
            "Requirement already satisfied: kiwisolver>=1.0.1 in /usr/local/lib/python3.10/dist-packages (from matplotlib->japanize-matplotlib) (1.4.5)\n",
            "Requirement already satisfied: numpy>=1.20 in /usr/local/lib/python3.10/dist-packages (from matplotlib->japanize-matplotlib) (1.23.5)\n",
            "Requirement already satisfied: packaging>=20.0 in /usr/local/lib/python3.10/dist-packages (from matplotlib->japanize-matplotlib) (23.2)\n",
            "Requirement already satisfied: pillow>=6.2.0 in /usr/local/lib/python3.10/dist-packages (from matplotlib->japanize-matplotlib) (9.4.0)\n",
            "Requirement already satisfied: pyparsing>=2.3.1 in /usr/local/lib/python3.10/dist-packages (from matplotlib->japanize-matplotlib) (3.1.1)\n",
            "Requirement already satisfied: python-dateutil>=2.7 in /usr/local/lib/python3.10/dist-packages (from matplotlib->japanize-matplotlib) (2.8.2)\n",
            "Requirement already satisfied: six>=1.5 in /usr/local/lib/python3.10/dist-packages (from python-dateutil>=2.7->matplotlib->japanize-matplotlib) (1.16.0)\n",
            "Building wheels for collected packages: japanize-matplotlib\n",
            "  Building wheel for japanize-matplotlib (setup.py) ... \u001b[?25l\u001b[?25hdone\n",
            "  Created wheel for japanize-matplotlib: filename=japanize_matplotlib-1.1.3-py3-none-any.whl size=4120257 sha256=59e103ec04501318001cd774c01d80a7c580140c78b259b5f9caea1ee306fb88\n",
            "  Stored in directory: /root/.cache/pip/wheels/61/7a/6b/df1f79be9c59862525070e157e62b08eab8ece27c1b68fbb94\n",
            "Successfully built japanize-matplotlib\n",
            "Installing collected packages: japanize-matplotlib\n",
            "Successfully installed japanize-matplotlib-1.1.3\n",
            "Collecting seaborn==0.12\n",
            "  Downloading seaborn-0.12.0-py3-none-any.whl (285 kB)\n",
            "\u001b[2K     \u001b[90m━━━━━━━━━━━━━━━━━━━━━━━━━━━━━━━━━━━━━━━━\u001b[0m \u001b[32m285.1/285.1 kB\u001b[0m \u001b[31m2.7 MB/s\u001b[0m eta \u001b[36m0:00:00\u001b[0m\n",
            "\u001b[?25hRequirement already satisfied: numpy>=1.17 in /usr/local/lib/python3.10/dist-packages (from seaborn==0.12) (1.23.5)\n",
            "Requirement already satisfied: pandas>=0.25 in /usr/local/lib/python3.10/dist-packages (from seaborn==0.12) (1.5.3)\n",
            "Requirement already satisfied: matplotlib>=3.1 in /usr/local/lib/python3.10/dist-packages (from seaborn==0.12) (3.7.1)\n",
            "Requirement already satisfied: contourpy>=1.0.1 in /usr/local/lib/python3.10/dist-packages (from matplotlib>=3.1->seaborn==0.12) (1.2.0)\n",
            "Requirement already satisfied: cycler>=0.10 in /usr/local/lib/python3.10/dist-packages (from matplotlib>=3.1->seaborn==0.12) (0.12.1)\n",
            "Requirement already satisfied: fonttools>=4.22.0 in /usr/local/lib/python3.10/dist-packages (from matplotlib>=3.1->seaborn==0.12) (4.47.2)\n",
            "Requirement already satisfied: kiwisolver>=1.0.1 in /usr/local/lib/python3.10/dist-packages (from matplotlib>=3.1->seaborn==0.12) (1.4.5)\n",
            "Requirement already satisfied: packaging>=20.0 in /usr/local/lib/python3.10/dist-packages (from matplotlib>=3.1->seaborn==0.12) (23.2)\n",
            "Requirement already satisfied: pillow>=6.2.0 in /usr/local/lib/python3.10/dist-packages (from matplotlib>=3.1->seaborn==0.12) (9.4.0)\n",
            "Requirement already satisfied: pyparsing>=2.3.1 in /usr/local/lib/python3.10/dist-packages (from matplotlib>=3.1->seaborn==0.12) (3.1.1)\n",
            "Requirement already satisfied: python-dateutil>=2.7 in /usr/local/lib/python3.10/dist-packages (from matplotlib>=3.1->seaborn==0.12) (2.8.2)\n",
            "Requirement already satisfied: pytz>=2020.1 in /usr/local/lib/python3.10/dist-packages (from pandas>=0.25->seaborn==0.12) (2023.4)\n",
            "Requirement already satisfied: six>=1.5 in /usr/local/lib/python3.10/dist-packages (from python-dateutil>=2.7->matplotlib>=3.1->seaborn==0.12) (1.16.0)\n",
            "Installing collected packages: seaborn\n",
            "  Attempting uninstall: seaborn\n",
            "    Found existing installation: seaborn 0.13.1\n",
            "    Uninstalling seaborn-0.13.1:\n",
            "      Successfully uninstalled seaborn-0.13.1\n",
            "\u001b[31mERROR: pip's dependency resolver does not currently take into account all the packages that are installed. This behaviour is the source of the following dependency conflicts.\n",
            "lida 0.0.10 requires fastapi, which is not installed.\n",
            "lida 0.0.10 requires kaleido, which is not installed.\n",
            "lida 0.0.10 requires python-multipart, which is not installed.\n",
            "lida 0.0.10 requires uvicorn, which is not installed.\u001b[0m\u001b[31m\n",
            "\u001b[0mSuccessfully installed seaborn-0.12.0\n",
            "Collecting numpyro\n",
            "  Downloading numpyro-0.13.2-py3-none-any.whl (312 kB)\n",
            "\u001b[2K     \u001b[90m━━━━━━━━━━━━━━━━━━━━━━━━━━━━━━━━━━━━━━━━\u001b[0m \u001b[32m312.7/312.7 kB\u001b[0m \u001b[31m2.4 MB/s\u001b[0m eta \u001b[36m0:00:00\u001b[0m\n",
            "\u001b[?25hRequirement already satisfied: jax>=0.4.14 in /usr/local/lib/python3.10/dist-packages (from numpyro) (0.4.23)\n",
            "Requirement already satisfied: jaxlib>=0.4.14 in /usr/local/lib/python3.10/dist-packages (from numpyro) (0.4.23+cuda12.cudnn89)\n",
            "Requirement already satisfied: multipledispatch in /usr/local/lib/python3.10/dist-packages (from numpyro) (1.0.0)\n",
            "Requirement already satisfied: numpy in /usr/local/lib/python3.10/dist-packages (from numpyro) (1.23.5)\n",
            "Requirement already satisfied: tqdm in /usr/local/lib/python3.10/dist-packages (from numpyro) (4.66.1)\n",
            "Requirement already satisfied: ml-dtypes>=0.2.0 in /usr/local/lib/python3.10/dist-packages (from jax>=0.4.14->numpyro) (0.2.0)\n",
            "Requirement already satisfied: opt-einsum in /usr/local/lib/python3.10/dist-packages (from jax>=0.4.14->numpyro) (3.3.0)\n",
            "Requirement already satisfied: scipy>=1.9 in /usr/local/lib/python3.10/dist-packages (from jax>=0.4.14->numpyro) (1.11.4)\n",
            "Installing collected packages: numpyro\n",
            "Successfully installed numpyro-0.13.2\n",
            "Collecting pymc>=5.9\n",
            "  Downloading pymc-5.10.3-py3-none-any.whl (472 kB)\n",
            "\u001b[2K     \u001b[90m━━━━━━━━━━━━━━━━━━━━━━━━━━━━━━━━━━━━━━━━\u001b[0m \u001b[32m472.4/472.4 kB\u001b[0m \u001b[31m3.1 MB/s\u001b[0m eta \u001b[36m0:00:00\u001b[0m\n",
            "\u001b[?25hRequirement already satisfied: arviz>=0.13.0 in /usr/local/lib/python3.10/dist-packages (from pymc>=5.9) (0.15.1)\n",
            "Requirement already satisfied: cachetools>=4.2.1 in /usr/local/lib/python3.10/dist-packages (from pymc>=5.9) (5.3.2)\n",
            "Requirement already satisfied: cloudpickle in /usr/local/lib/python3.10/dist-packages (from pymc>=5.9) (2.2.1)\n",
            "Requirement already satisfied: fastprogress>=0.2.0 in /usr/local/lib/python3.10/dist-packages (from pymc>=5.9) (1.0.3)\n",
            "Requirement already satisfied: numpy>=1.15.0 in /usr/local/lib/python3.10/dist-packages (from pymc>=5.9) (1.23.5)\n",
            "Requirement already satisfied: pandas>=0.24.0 in /usr/local/lib/python3.10/dist-packages (from pymc>=5.9) (1.5.3)\n",
            "Collecting pytensor<2.19,>=2.18.1 (from pymc>=5.9)\n",
            "  Downloading pytensor-2.18.6-cp310-cp310-manylinux_2_17_x86_64.manylinux2014_x86_64.whl (1.9 MB)\n",
            "\u001b[2K     \u001b[90m━━━━━━━━━━━━━━━━━━━━━━━━━━━━━━━━━━━━━━━━\u001b[0m \u001b[32m1.9/1.9 MB\u001b[0m \u001b[31m19.2 MB/s\u001b[0m eta \u001b[36m0:00:00\u001b[0m\n",
            "\u001b[?25hRequirement already satisfied: scipy>=1.4.1 in /usr/local/lib/python3.10/dist-packages (from pymc>=5.9) (1.11.4)\n",
            "Requirement already satisfied: typing-extensions>=3.7.4 in /usr/local/lib/python3.10/dist-packages (from pymc>=5.9) (4.5.0)\n",
            "Requirement already satisfied: setuptools>=60.0.0 in /usr/local/lib/python3.10/dist-packages (from arviz>=0.13.0->pymc>=5.9) (67.7.2)\n",
            "Requirement already satisfied: matplotlib>=3.2 in /usr/local/lib/python3.10/dist-packages (from arviz>=0.13.0->pymc>=5.9) (3.7.1)\n",
            "Requirement already satisfied: packaging in /usr/local/lib/python3.10/dist-packages (from arviz>=0.13.0->pymc>=5.9) (23.2)\n",
            "Requirement already satisfied: xarray>=0.21.0 in /usr/local/lib/python3.10/dist-packages (from arviz>=0.13.0->pymc>=5.9) (2023.7.0)\n",
            "Requirement already satisfied: h5netcdf>=1.0.2 in /usr/local/lib/python3.10/dist-packages (from arviz>=0.13.0->pymc>=5.9) (1.3.0)\n",
            "Requirement already satisfied: xarray-einstats>=0.3 in /usr/local/lib/python3.10/dist-packages (from arviz>=0.13.0->pymc>=5.9) (0.7.0)\n",
            "Requirement already satisfied: python-dateutil>=2.8.1 in /usr/local/lib/python3.10/dist-packages (from pandas>=0.24.0->pymc>=5.9) (2.8.2)\n",
            "Requirement already satisfied: pytz>=2020.1 in /usr/local/lib/python3.10/dist-packages (from pandas>=0.24.0->pymc>=5.9) (2023.4)\n",
            "Requirement already satisfied: filelock in /usr/local/lib/python3.10/dist-packages (from pytensor<2.19,>=2.18.1->pymc>=5.9) (3.13.1)\n",
            "Requirement already satisfied: etuples in /usr/local/lib/python3.10/dist-packages (from pytensor<2.19,>=2.18.1->pymc>=5.9) (0.3.9)\n",
            "Requirement already satisfied: logical-unification in /usr/local/lib/python3.10/dist-packages (from pytensor<2.19,>=2.18.1->pymc>=5.9) (0.4.6)\n",
            "Requirement already satisfied: miniKanren in /usr/local/lib/python3.10/dist-packages (from pytensor<2.19,>=2.18.1->pymc>=5.9) (1.0.3)\n",
            "Requirement already satisfied: cons in /usr/local/lib/python3.10/dist-packages (from pytensor<2.19,>=2.18.1->pymc>=5.9) (0.4.6)\n",
            "Requirement already satisfied: h5py in /usr/local/lib/python3.10/dist-packages (from h5netcdf>=1.0.2->arviz>=0.13.0->pymc>=5.9) (3.9.0)\n",
            "Requirement already satisfied: contourpy>=1.0.1 in /usr/local/lib/python3.10/dist-packages (from matplotlib>=3.2->arviz>=0.13.0->pymc>=5.9) (1.2.0)\n",
            "Requirement already satisfied: cycler>=0.10 in /usr/local/lib/python3.10/dist-packages (from matplotlib>=3.2->arviz>=0.13.0->pymc>=5.9) (0.12.1)\n",
            "Requirement already satisfied: fonttools>=4.22.0 in /usr/local/lib/python3.10/dist-packages (from matplotlib>=3.2->arviz>=0.13.0->pymc>=5.9) (4.47.2)\n",
            "Requirement already satisfied: kiwisolver>=1.0.1 in /usr/local/lib/python3.10/dist-packages (from matplotlib>=3.2->arviz>=0.13.0->pymc>=5.9) (1.4.5)\n",
            "Requirement already satisfied: pillow>=6.2.0 in /usr/local/lib/python3.10/dist-packages (from matplotlib>=3.2->arviz>=0.13.0->pymc>=5.9) (9.4.0)\n",
            "Requirement already satisfied: pyparsing>=2.3.1 in /usr/local/lib/python3.10/dist-packages (from matplotlib>=3.2->arviz>=0.13.0->pymc>=5.9) (3.1.1)\n",
            "Requirement already satisfied: six>=1.5 in /usr/local/lib/python3.10/dist-packages (from python-dateutil>=2.8.1->pandas>=0.24.0->pymc>=5.9) (1.16.0)\n",
            "Requirement already satisfied: toolz in /usr/local/lib/python3.10/dist-packages (from logical-unification->pytensor<2.19,>=2.18.1->pymc>=5.9) (0.12.1)\n",
            "Requirement already satisfied: multipledispatch in /usr/local/lib/python3.10/dist-packages (from logical-unification->pytensor<2.19,>=2.18.1->pymc>=5.9) (1.0.0)\n",
            "Installing collected packages: pytensor, pymc\n",
            "  Attempting uninstall: pytensor\n",
            "    Found existing installation: pytensor 2.14.2\n",
            "    Uninstalling pytensor-2.14.2:\n",
            "      Successfully uninstalled pytensor-2.14.2\n",
            "  Attempting uninstall: pymc\n",
            "    Found existing installation: pymc 5.7.2\n",
            "    Uninstalling pymc-5.7.2:\n",
            "      Successfully uninstalled pymc-5.7.2\n",
            "Successfully installed pymc-5.10.3 pytensor-2.18.6\n"
          ]
        }
      ],
      "source": [
        "!pip install japanize-matplotlib\n",
        "!pip install seaborn==0.12\n",
        "!pip install numpyro\n",
        "!pip install 'pymc>=5.9'"
      ]
    },
    {
      "cell_type": "code",
      "source": [
        "import numpy as np\n",
        "import matplotlib.pyplot as plt\n",
        "import japanize_matplotlib\n",
        "import pandas as pd\n",
        "# from IPython.display import display\n",
        "import seaborn as sns\n",
        "import pymc as pm\n",
        "import arviz as az\n",
        "import scipy\n",
        "import scipy.stats as stats\n",
        "from numpy.random import multinomial\n",
        "\n",
        "print(f\"{pm.__version__=}\")\n",
        "print(f\"{sns.__version__=}\")\n",
        "print(f\"{np.__version__=}\")\n",
        "print(f\"{scipy.__version__=}\")\n",
        "np.set_printoptions(precision=3, floatmode=\"fixed\")\n",
        "plt.rcParams[\"font.size\"] = 8\n",
        "plt.rcParams[\"figure.figsize\"] = (3, 3)\n",
        "plt.rcParams[\"axes.grid\"] = True\n",
        "# pd.options.display.float_format = \"[:.3f]\".format\n",
        "pd.set_option(\"display.max_columns\", None)"
      ],
      "metadata": {
        "colab": {
          "base_uri": "https://localhost:8080/"
        },
        "id": "dQl0H686UZKZ",
        "outputId": "5f32f8fb-68cb-4957-d9d4-690717ed6d99"
      },
      "execution_count": 6,
      "outputs": [
        {
          "output_type": "stream",
          "name": "stdout",
          "text": [
            "pm.__version__='5.10.3'\n",
            "sns.__version__='0.12.0'\n",
            "np.__version__='1.23.5'\n",
            "scipy.__version__='1.11.4'\n"
          ]
        }
      ]
    },
    {
      "cell_type": "code",
      "source": [
        "# 主観的(subjective)、客観的(objective)事前分布の例\n",
        "plt.figure(figsize=(10, 3))\n",
        "colors = [\"#348ABD\", \"#A60628\", \"#7A68A6\", \"#467821\"]\n",
        "\n",
        "x = np.linspace(0, 1)\n",
        "y1, y2 = stats.beta.pdf(x, 1,1), stats.beta.pdf(x, 10,10)\n",
        "\n",
        "p = plt.plot(x, y1, label='An objective prior \\n(uninformative, \\n\"Principle of Indifference\")')\n",
        "plt.fill_between(x, 0, y1, color = p[0].get_color(), alpha = 0.3)\n",
        "\n",
        "p = plt.plot(x, y2 ,label = \"A subjective prior \\n(informative)\")\n",
        "plt.fill_between(x, 0, y2, color = p[0].get_color(), alpha = 0.3)\n",
        "\n",
        "p = plt.plot(x[25:], 2*np.ones(25), label = \"another subjective prior\")\n",
        "plt.fill_between(x[25:], 0, 2, color = p[0].get_color(), alpha = 0.3)\n",
        "\n",
        "plt.ylim(0,4)\n",
        "\n",
        "plt.ylim(0, 4)\n",
        "leg = plt.legend(loc = \"upper left\")\n",
        "leg.get_frame().set_alpha(0.4)\n",
        "plt.title(\"Comparing objective vs. subjective priors for an unknown probability\");"
      ],
      "metadata": {
        "colab": {
          "base_uri": "https://localhost:8080/",
          "height": 307
        },
        "id": "H7L2NQOxUaIX",
        "outputId": "2aacc6a4-4867-49fc-a3f6-1966425bd150"
      },
      "execution_count": 10,
      "outputs": [
        {
          "output_type": "display_data",
          "data": {
            "text/plain": [
              "<Figure size 1000x300 with 1 Axes>"
            ],
            "image/png": "[encoded data removed]"
          },
          "metadata": {}
        }
      ]
    },
    {
      "cell_type": "markdown",
      "source": [
        "主観的事前分布というのは、ユーザーの主観的な意見を使うということとは必ずしも一致しない。\n",
        "他の問題の事後分布が、この問題の事前分布になっているということが多い。\n",
        "\n",
        "⇨つまり、事後分布の更新が行われている！\n",
        "\n",
        "### 意思決定に次ぐ意思決定\n",
        "- 科学的研究⇨客観的事前情報\n",
        "- 医学的調査報告書\n",
        "    - 信用に足るか？研究者の望む結果に資するような\"**客観的**\"事前分布を選んでいるかもしれない\n",
        "\n",
        "- 客観的事前分布なら一様分布か？⇨そう単純じゃない\n",
        "    - 未知数がとてつもなく大きい値を取るか？ないなら、使うべきじゃない\n",
        "\n",
        "### 経験ベイズ（empirical Bayes）\n",
        "頻度主義とベイズ推論を組み合わせるトリック\n",
        "- ベイズ主義：$\\alpha, \\tau$といったハイパーパラメータを持つ\n",
        "- 経験ベイズ：$\\alpha, \\tau$の選択には頻度主義の手法を使い、ベイズ推論する\n",
        "\n",
        "（例） \\\\\n",
        "$\\sigma=5$の正規分布のパラメータ$\\mu$を推定したい\n",
        "- $\\mu$の事前分布には正規分布を使える\n",
        "- $(\\mu_p, \\sigma^2_p)$を決める\n",
        "\n",
        "$\\mu_p$の選び方\n",
        "1. 経験ベイズ：**標本平均を使う、つまり観測データの平均**\n",
        "1. 普通のベイズ：事前知識、客観的事前分布（平均0, 標準偏差大きめ）の何かを使う\n",
        "※経験ベイズは、事前分布の設定に観測データ情報を用いるため、二重カウントしているといえる。真の不確実さが過小評価される恐れがある。よってデータ数が大きい場合に使う方が良さそう。\n",
        "\n",
        "フローの違い\n",
        "\n",
        "\\begin{array}{|c|c|}\n",
        "\\hline\n",
        "普通のベイズ & 事前分布 ⇨ 観測データ ⇨ 事後分布 \\\\\n",
        "\\hline\n",
        "経験ベイズ & 観測データ ⇨ 事前分布 ⇨ 観測データ ⇨ 事後分布 \\\\\n",
        "\\hline\n",
        "\\end{array}\n",
        "\n",
        "## ガンマ分布\n",
        "\n",
        "## ウィシャート分布\n",
        "\n",
        "## ベータ分布\n",
        "$$\n",
        "f_X(x|\\alpha, \\beta)=\\frac{x^{(\\alpha-1)}(1-x)^{(\\beta-1)}}{B(\\alpha, \\beta)}\n",
        "$$\n",
        "- $\\alpha, \\beta = 1, 1$の場合、一様分布\n",
        "- ベータ分布と二項分布の深い関係\n",
        "    - 確率$p$を推定したいとして、$Beta(\\alpha, \\beta)$を$pP$の事前分布とする\n",
        "    - $p$がデータ$X$~$Binomial(N, p)$を観測する\n",
        "    - 事後分布は、$Beta(\\alpha+X, \\beta+N-X)$ \\\\\n",
        "（例） $p$のprior: $Beta(1,1)$　(一様分布！)、観測データ$X$~$Binomial(N, p)$\n",
        "\n",
        "⇨posterior: $Beta(\\alpha+X, \\beta+N-X)=Beta(1+10, 1+25-10), (N=25, X=10, 25回中10回成功した)$\n",
        "\n",
        "## ベイズ多腕バンディット\n",
        "- 10台のスロットマシン\n",
        "- アームをひいて当たりが出る確率は、バンディット（スロットマシン）によって異なる\n",
        "- その確率はもちろん不明\n",
        "- **自分の勝ち分を最大化する戦略は？**=「最も良いバンディットがどれなのかをできるだけ早く見抜く」\n",
        "    - 最良のバンディットでなくても、偶然多く当たるkともある⇨最良バンディットだと信じてしまう\n",
        "    - 逆もあるはず\n",
        "    - このまま負け続けるべきか、諦めて他を当たるか？\n",
        "    - 「探索と利用のジレンマ」：いいバンディットを見つけて、そのまま引き続けるか、もっと良いものがあるかトライするか？\n",
        "\n",
        "### 応用\n",
        "- ネット広告  \n",
        "広告パターンの運用方法で売上を最大化したい\n",
        "- 生物学  \n",
        "限られたエネルギーで有益な行動を最適化する、最大化する\n",
        "- 金融  \n",
        "どのストックオプションのリターンが高いか？\n",
        "- 臨床試験  \n",
        "\n",
        "ベイズバンディット：https://sites.socsci.uci.edu/~ivan/asmb.874.pdf\n",
        "\n",
        "### 解法\n",
        "- 事前情報なしからスタート\n",
        "- システムをテストしながらデータ収集\n",
        "- データと結果を収集しながら最良の行動を学習する\n",
        "\n",
        " **ベイズバンディット**\n",
        "- 各バンディットで勝つ確率の事前分布を仮定することからスタート\n",
        "1. 各バンディット$b$のpriorから結果$X_b$をランダムランプリング：今回の例題では一様分布を使用\n",
        "1. 最良のサンプルを出したバンディット$B$を選択　i.e.) $B=$argmax$X_b$\n",
        "1. バンディット$B$の結果を観測し、バンディット$B$のpriorを更新\n",
        "1. 1に戻る\n",
        "\n",
        "$N$個の分布（バンディット$B$の個数？）からのサンプリング  \n",
        "- 事前分布は[0,1]の一様分布(=$Beta(\\alpha=1, \\beta=1)$)\n",
        "- 観測結果は二値。  \n",
        "⇨事後分布: $Beta(\\alpha=1+X, \\beta=1+1-X)$\n",
        "\n",
        "\n",
        "\n",
        "\n",
        "\n",
        "\n",
        "\n",
        "\n",
        "\n",
        "\n"
      ],
      "metadata": {
        "id": "aF-_6Kkejgpq"
      }
    },
    {
      "cell_type": "code",
      "source": [],
      "metadata": {
        "id": "bcbLjrrle4Fo"
      },
      "execution_count": null,
      "outputs": []
    }
  ]
}